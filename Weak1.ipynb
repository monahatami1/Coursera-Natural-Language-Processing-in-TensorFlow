{
  "nbformat": 4,
  "nbformat_minor": 0,
  "metadata": {
    "colab": {
      "name": "Untitled4.ipynb",
      "provenance": [],
      "authorship_tag": "ABX9TyPFS+fWo+iBhggFqyLK/MxV",
      "include_colab_link": true
    },
    "kernelspec": {
      "name": "python3",
      "display_name": "Python 3"
    }
  },
  "cells": [
    {
      "cell_type": "markdown",
      "metadata": {
        "id": "view-in-github",
        "colab_type": "text"
      },
      "source": [
        "<a href=\"https://colab.research.google.com/github/monahatami1/Coursera-Natural-Language-Processing-in-TensorFlow/blob/master/Weak1.ipynb\" target=\"_parent\"><img src=\"https://colab.research.google.com/assets/colab-badge.svg\" alt=\"Open In Colab\"/></a>"
      ]
    },
    {
      "cell_type": "code",
      "metadata": {
        "id": "H8f9Gz5tfSW4",
        "outputId": "33f2e723-68ff-42c4-ff64-dee2188e5c7b",
        "colab": {
          "base_uri": "https://localhost:8080/",
          "height": 332
        }
      },
      "source": [
        "import tensorflow as tf\n",
        "from tensorflow import keras\n",
        "\n",
        "\n",
        "from tensorflow.keras.preprocessing.text import Tokenizer\n",
        "from tensorflow.keras.preprocessing.sequence import pad_sequences\n",
        "\n",
        "sentences = [\n",
        "'I love tensorflow', 'I love AI','I love tensorflow!'\n",
        "          , 'Do you like machine learing?',\n",
        "          ' you think deep  is an amazing thing to learn?'\n",
        "]\n",
        "\n",
        "tokenizer = Tokenizer(num_words = 100, oov_token=\"<OOV>\")\n",
        "tokenizer.fit_on_texts(sentences)\n",
        "word_index = tokenizer.word_index\n",
        "\n",
        "sequences = tokenizer.texts_to_sequences(sentences)\n",
        "\n",
        "padded = pad_sequences(sequences, maxlen=5)\n",
        "print(\"\\nWord Index = \" , word_index)\n",
        "print(\"\\nSequences = \" , sequences)\n",
        "print(\"\\nPadded Sequences:\")\n",
        "print(padded)\n",
        "\n",
        "\n",
        "# Try with words that the tokenizer wasn't fit to\n",
        "test_data = [\n",
        "'I really love coding', 'do you know how to learn deep learning'\n",
        "]\n",
        "\n",
        "test_seq = tokenizer.texts_to_sequences(test_data)\n",
        "print(\"\\nTest Sequence = \", test_seq)\n",
        "\n",
        "padded = pad_sequences(test_seq, maxlen=10)\n",
        "print(\"\\nPadded Test Sequence: \")\n",
        "print(padded)"
      ],
      "execution_count": 1,
      "outputs": [
        {
          "output_type": "stream",
          "text": [
            "\n",
            "Word Index =  {'<OOV>': 1, 'i': 2, 'love': 3, 'tensorflow': 4, 'you': 5, 'ai': 6, 'do': 7, 'like': 8, 'machine': 9, 'learing': 10, 'think': 11, 'deep': 12, 'is': 13, 'an': 14, 'amazing': 15, 'thing': 16, 'to': 17, 'learn': 18}\n",
            "\n",
            "Sequences =  [[2, 3, 4], [2, 3, 6], [2, 3, 4], [7, 5, 8, 9, 10], [5, 11, 12, 13, 14, 15, 16, 17, 18]]\n",
            "\n",
            "Padded Sequences:\n",
            "[[ 0  0  2  3  4]\n",
            " [ 0  0  2  3  6]\n",
            " [ 0  0  2  3  4]\n",
            " [ 7  5  8  9 10]\n",
            " [14 15 16 17 18]]\n",
            "\n",
            "Test Sequence =  [[2, 1, 3, 1], [7, 5, 1, 1, 17, 18, 12, 1]]\n",
            "\n",
            "Padded Test Sequence: \n",
            "[[ 0  0  0  0  0  0  2  1  3  1]\n",
            " [ 0  0  7  5  1  1 17 18 12  1]]\n"
          ],
          "name": "stdout"
        }
      ]
    }
  ]
}